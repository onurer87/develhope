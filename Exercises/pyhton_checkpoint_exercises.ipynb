{
 "cells": [
  {
   "cell_type": "code",
   "execution_count": 1,
   "metadata": {},
   "outputs": [
    {
     "name": "stdout",
     "output_type": "stream",
     "text": [
      "96.5604\n"
     ]
    }
   ],
   "source": [
    "def speed_coverter(speed_mph):\n",
    "    return speed_mph*1.60934\n",
    "\n",
    "speed_kph=speed_coverter(60)\n",
    "\n",
    "print(speed_kph)"
   ]
  },
  {
   "cell_type": "code",
   "execution_count": 2,
   "metadata": {},
   "outputs": [
    {
     "name": "stdout",
     "output_type": "stream",
     "text": [
      "[1, 2, 4, 5, 7, 8, 556, 879]\n",
      "[879, 556, 8, 7, 5, 4, 2, 1]\n"
     ]
    }
   ],
   "source": [
    "numbers_list=[1,2,4,5,7,8,556,879]\n",
    "max_numbers=[]\n",
    "\n",
    "number_of_max_values=int(input(\"Enter the number of max values\"))\n",
    "\n",
    "while number_of_max_values > len(numbers_list):\n",
    "    number_of_max_values=int(input(f'There are {len(numbers_list)} numbers in the list, please enter smaller or equal to this number'))\n",
    "\n",
    "for i in range(0,number_of_max_values):\n",
    "    max_numbers.append(0)\n",
    "    for number in numbers_list:\n",
    "        if number > max_numbers[i] and max_numbers.count(number)==0:\n",
    "            max_numbers[i]=number\n",
    "        else:\n",
    "            pass\n",
    "\n",
    "print(numbers_list)\n",
    "print(max_numbers)"
   ]
  },
  {
   "cell_type": "code",
   "execution_count": 3,
   "metadata": {},
   "outputs": [
    {
     "name": "stdout",
     "output_type": "stream",
     "text": [
      "[1, 4, 4, 25, 7, 64, 556, 772641]\n"
     ]
    }
   ],
   "source": [
    "numbers_list=[1,2,4,5,7,8,556,879]\n",
    "squared_list=[]\n",
    "\n",
    "for i in range(0,len(numbers_list)):\n",
    "    if i%2==1:\n",
    "        squared_list.append(numbers_list[i]**2)\n",
    "    else:\n",
    "        squared_list.append(numbers_list[i])\n",
    "\n",
    "print(squared_list)"
   ]
  },
  {
   "cell_type": "code",
   "execution_count": 5,
   "metadata": {},
   "outputs": [
    {
     "name": "stdout",
     "output_type": "stream",
     "text": [
      "[1, 4, 4, 25, 7, 64, 556, 772641]\n"
     ]
    }
   ],
   "source": [
    "numbers_list=[1,2,4,5,7,8,556,879]\n",
    "squaree_list=[numbers_list[i]**2 if i%2==1 else numbers_list[i] for i in range(0,len(numbers_list))]\n",
    "print(squaree_list)"
   ]
  },
  {
   "cell_type": "code",
   "execution_count": 15,
   "metadata": {},
   "outputs": [
    {
     "name": "stdout",
     "output_type": "stream",
     "text": [
      "index 2\n"
     ]
    }
   ],
   "source": [
    "string =\"amLE#C87ghnn\"\n",
    "\n",
    "for i in range(0,len(string)):\n",
    "    if string[i] ==\"L\":\n",
    "        print(\"index\",i)\n",
    "    else:\n",
    "        pass\n"
   ]
  },
  {
   "cell_type": "code",
   "execution_count": 16,
   "metadata": {},
   "outputs": [
    {
     "name": "stdout",
     "output_type": "stream",
     "text": [
      "index 2\n"
     ]
    }
   ],
   "source": [
    "string =\"amLE#C87ghnn\"\n",
    "i=0\n",
    "while string[i]!=\"L\":\n",
    "    i+=1\n",
    "\n",
    "print(\"index\",i)"
   ]
  },
  {
   "cell_type": "code",
   "execution_count": 18,
   "metadata": {},
   "outputs": [
    {
     "name": "stdout",
     "output_type": "stream",
     "text": [
      "[7, 14, 21, 28, 35, 42, 49, 56, 63, 70, 77, 84, 91, 98]\n"
     ]
    }
   ],
   "source": [
    "multiples_of_seven=[number for number in range(1,100) if number%7==0]\n",
    "\n",
    "print(multiples_of_seven)"
   ]
  },
  {
   "cell_type": "code",
   "execution_count": 6,
   "metadata": {},
   "outputs": [
    {
     "name": "stdout",
     "output_type": "stream",
     "text": [
      "18\n"
     ]
    },
    {
     "data": {
      "text/plain": [
       "True"
      ]
     },
     "execution_count": 6,
     "metadata": {},
     "output_type": "execute_result"
    }
   ],
   "source": [
    "string2=\"lkfjsfasSFdsabsufn\"\n",
    "print(len(string2))\n",
    "\n",
    "def password_checker(password):\n",
    "    if len(password)>=10 and len(password)<=20:\n",
    "        for letter in password:\n",
    "            if letter.istitle():\n",
    "                test= True \n",
    "                break           \n",
    "            else:\n",
    "                test=False\n",
    "    else:\n",
    "        test=False\n",
    "    return test\n",
    "\n",
    "password_checker(string2)"
   ]
  },
  {
   "cell_type": "code",
   "execution_count": 7,
   "metadata": {},
   "outputs": [
    {
     "name": "stdout",
     "output_type": "stream",
     "text": [
      "WARNING: Cannot ascend above sea level!\n",
      "Descending 500m.\n",
      "Current depth of NorthStar is -500m.\n",
      "Descending 300m.\n",
      "Current depth of NorthStar is -800m.\n",
      "Current depth of NorthStar is -800m.\n"
     ]
    }
   ],
   "source": [
    "class Submarine_Calculator:\n",
    "    def __init__(self, sub_name, level=0):\n",
    "        self.name=sub_name\n",
    "        self.level=level\n",
    "    def descend(self, meter):\n",
    "        self.level-=meter\n",
    "        print(f\"Descending {meter}m.\")\n",
    "        self.check_depth()\n",
    "    def ascend(self, meter):\n",
    "        if self.level+meter>0:\n",
    "            print(\"WARNING: Cannot ascend above sea level!\")\n",
    "        else:\n",
    "            self.level+=meter\n",
    "            print(f'Ascending {meter}m.')\n",
    "            self.check_depth()\n",
    "    def check_depth(self):\n",
    "        print(f'Current depth of {self.name} is {self.level}m.')\n",
    "\n",
    "\n",
    "my_sub=Submarine_Calculator(\"NorthStar\")\n",
    "my_sub.ascend(500)\n",
    "my_sub.descend(500)\n",
    "my_sub.descend(300)\n",
    "my_sub.check_depth()\n"
   ]
  }
 ],
 "metadata": {
  "kernelspec": {
   "display_name": "Python 3",
   "language": "python",
   "name": "python3"
  },
  "language_info": {
   "codemirror_mode": {
    "name": "ipython",
    "version": 3
   },
   "file_extension": ".py",
   "mimetype": "text/x-python",
   "name": "python",
   "nbconvert_exporter": "python",
   "pygments_lexer": "ipython3",
   "version": "3.8.2"
  },
  "orig_nbformat": 4,
  "vscode": {
   "interpreter": {
    "hash": "6ee369a2afd4a614a1e5aa9ef2e438b62b9081287575b70d0009e3bf7c2277f4"
   }
  }
 },
 "nbformat": 4,
 "nbformat_minor": 2
}
