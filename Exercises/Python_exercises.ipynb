{
  "cells": [
    {
      "cell_type": "markdown",
      "metadata": {
        "id": "DX2qu1kxvadd"
      },
      "source": [
        "# Q1 Level I"
      ]
    },
    {
      "cell_type": "markdown",
      "metadata": {
        "id": "8u_wgdN9jIfy"
      },
      "source": [
        "\n",
        "Write a Python program to find the most frequent element in a list of integers.\n",
        "\n",
        "Given a list of integers, write a Python program to find the most frequent element in the list. For example, if the list is [1, 2, 3, 3, 3, 4, 4, 5, 5], the most frequent element is 3.\n"
      ]
    },
    {
      "cell_type": "code",
      "execution_count": null,
      "metadata": {
        "id": "mXvwQpl7pdSS"
      },
      "outputs": [],
      "source": [
        "list_4=[1, 2, 3, 3, 3, 4, 4,4,4,4, 5, 5]\n",
        "count=0\n",
        "for item in list_4:\n",
        "  if list_4.count(item) > count:\n",
        "    count=list_4.count(item)\n",
        "    frequent_item=item\n",
        "  else:\n",
        "    pass\n",
        "\n",
        "print(frequent_item,count)"
      ]
    },
    {
      "cell_type": "markdown",
      "metadata": {
        "id": "6cSzNf9dtHG7"
      },
      "source": [
        "Write a Python program to find the median of a list of integers.\n",
        "\n",
        "Given a list of integers, write a Python program to find the median of the list. The median is the middle value in a sorted list of numbers. If the list has an odd number of elements, the median is the middle element. If the list has an even number of elements, the median is the average of the two middle elements."
      ]
    },
    {
      "cell_type": "code",
      "execution_count": null,
      "metadata": {
        "id": "kPrH_tnhtHbT"
      },
      "outputs": [],
      "source": [
        "list_3=[1, 2, 3, 3, 3, 4, 4,4,4,4, 5, 5]\n",
        "\n",
        "sorted_list=sorted(list_3)\n",
        "\n",
        "if len(sorted_list)%2!=0:\n",
        "    index= round(len(sorted_list)/2),0\n",
        "    median=sorted_list(index)\n",
        "else:\n",
        "    index=int(len(sorted_list)/2)\n",
        "    median=(sorted_list[index]+sorted_list[index+1])/2\n",
        "print(median)"
      ]
    },
    {
      "cell_type": "markdown",
      "metadata": {
        "id": "tejjE3ZXtKwq"
      },
      "source": [
        "Write a Python program to remove duplicates from a list.\n",
        "\n",
        "Given a list, write a Python program to remove duplicates from the list. For example, if the list is [1, 2, 2, 3, 4, 4, 4], the program should return [1, 2, 3, 4]."
      ]
    },
    {
      "cell_type": "code",
      "execution_count": null,
      "metadata": {
        "id": "6OoBjCWktLQC"
      },
      "outputs": [],
      "source": [
        "list_3=[1, 2, 2, 3, 4, 4, 4]\n",
        "\n",
        "for item in list_3:\n",
        "    while list_3.count(item)>1:\n",
        "        list_3.remove(item)\n",
        "\n",
        "print(list_3)\n"
      ]
    },
    {
      "cell_type": "markdown",
      "metadata": {
        "id": "AkNIHzGgtOso"
      },
      "source": [
        "Write a Python program to flatten a nested list.\n",
        "\n",
        "Given a nested list, write a Python program to flatten the list. For example, if the nested list is [[1, 2, 3], [4, 5], [6]], the flattened list should be [1, 2, 3, 4, 5, 6]."
      ]
    },
    {
      "cell_type": "code",
      "execution_count": 25,
      "metadata": {
        "id": "JZhM7-q1tPB8"
      },
      "outputs": [
        {
          "name": "stdout",
          "output_type": "stream",
          "text": [
            "[1, 2, 3, 4, 5, 6]\n"
          ]
        }
      ],
      "source": [
        "nested_list=[[1, 2, 3], [4, 5], [6]]\n",
        "flattened_list=[]\n",
        "for item in nested_list:\n",
        "    if type(item) is list:\n",
        "        for n_item in item:\n",
        "            flattened_list.append(n_item)\n",
        "    else:\n",
        "        flattened_list.append(item)\n",
        "print(flattened_list)\n",
        "    \n"
      ]
    },
    {
      "cell_type": "markdown",
      "metadata": {
        "id": "IJBP3WyktR77"
      },
      "source": [
        "Write a Python program to merge two sorted lists into a single sorted list.\n",
        "\n",
        "Given two sorted lists, write a Python program to merge the lists into a single sorted list. For example, if the two lists are [1, 3, 5, 7] and [2, 4, 6, 8], the merged list should be [1, 2, 3, 4, 5, 6, 7, 8]."
      ]
    },
    {
      "cell_type": "code",
      "execution_count": 24,
      "metadata": {
        "id": "ec7HIze7tUMn"
      },
      "outputs": [
        {
          "name": "stdout",
          "output_type": "stream",
          "text": [
            "[1, 2, 3, 4, 5, 6, 7, 8]\n"
          ]
        }
      ],
      "source": [
        "list_1=[1, 3, 5, 7]\n",
        "list_2=[2, 3,4, 6, 8]\n",
        "\n",
        "merged_list=sorted(list_1+list_2)\n",
        "for item in merged_list:\n",
        "    while merged_list.count(item)>1:\n",
        "        merged_list.remove(item)\n",
        "\n",
        "print(merged_list)"
      ]
    },
    {
      "cell_type": "markdown",
      "metadata": {
        "id": "E8cmM2-itUd3"
      },
      "source": [
        "Write a Python program to find the intersection of two lists.\n",
        "\n",
        "Given two lists, write a Python program to find the intersection of the two lists. The intersection is the set of elements that appear in both lists. For example, if the two lists are [1, 2, 3] and [2, 3, 4], the intersection is [2, 3]."
      ]
    },
    {
      "cell_type": "code",
      "execution_count": 26,
      "metadata": {
        "id": "QwAzLw6itXfz"
      },
      "outputs": [
        {
          "name": "stdout",
          "output_type": "stream",
          "text": [
            "[2, 3]\n"
          ]
        }
      ],
      "source": [
        "list_1=[1, 2, 3]\n",
        "list_2=[2, 3, 4]\n",
        "\n",
        "intersection=[]\n",
        "\n",
        "for item in list_1:\n",
        "    if list_2.count(item)>0:\n",
        "        intersection.append(item)\n",
        "    else:\n",
        "        pass\n",
        "\n",
        "print(intersection)"
      ]
    },
    {
      "cell_type": "markdown",
      "metadata": {
        "id": "8Hv9QO26tXzz"
      },
      "source": [
        "Write a Python program to sort a list of dictionaries by a specific key.\n",
        "\n",
        "Given a list of dictionaries, write a Python program to sort the list by a specific key in the dictionaries. For example, if the list is [{'name': 'Alice', 'age': 25}, {'name': 'Bob', 'age': 30}, {'name': 'Charlie', 'age': 20}], and the key to sort by is 'age', the sorted list should be [{'name': 'Charlie', 'age': 20}, {'name': 'Alice', 'age': 25}, {'name': 'Bob', 'age': 30}]."
      ]
    },
    {
      "cell_type": "code",
      "execution_count": 4,
      "metadata": {
        "id": "YPh-Hu03tgQU"
      },
      "outputs": [
        {
          "data": {
            "text/plain": [
              "25"
            ]
          },
          "execution_count": 4,
          "metadata": {},
          "output_type": "execute_result"
        }
      ],
      "source": [
        "name_list=[{'name': 'Alice', 'age': 25}, \n",
        "      {'name': 'Bob', 'age': 30}, \n",
        "      {'name': 'Charlie', 'age': 20}]\n",
        "\n",
        "sort_by=\"age\"\n",
        "sorted_name_list=[]\n",
        "\n",
        "name_list[0][\"age\"]\n",
        "\n",
        "# for i in range(0,len(name_list)):\n",
        "#       sorted_name_list.append(name_list[i])\n",
        "#       for z in range(0,len(name_list)):\n",
        "#             print(name_list[i][sort_by], name_list[z][sort_by])\n",
        "#             print(name_list[i][sort_by]>=name_list[z][sort_by])\n",
        "#             if name_list[i]>=sorted_name_list[z]:\n",
        "#                   sorted_name_list.append\n",
        "#             else:\n",
        "#                   # sorted_name_list[i]=name_list[z]\n",
        "#                   pass\n",
        "#             print(sorted_name_list)\n",
        "# print(sorted_name_list)\n",
        "      \n"
      ]
    },
    {
      "cell_type": "markdown",
      "metadata": {
        "id": "eNOtVNbEtgrL"
      },
      "source": [
        "Write a Python program to find the top k elements in the list. The top k elements are the k largest elements in the list. For example, if the list is [1, 2, 5, 3, 6, 4] and k is 3, the top 3 elements are [5, 6, 4]."
      ]
    },
    {
      "cell_type": "code",
      "execution_count": 27,
      "metadata": {
        "id": "_xMj9_NAtqx_"
      },
      "outputs": [
        {
          "name": "stdout",
          "output_type": "stream",
          "text": [
            "[1, 2, 4, 5, 7, 8, 556, 879]\n",
            "[879, 556]\n"
          ]
        }
      ],
      "source": [
        "numbers_list=[1,2,4,5,7,8,556,879]\n",
        "max_numbers=[]\n",
        "\n",
        "number_of_max_values=int(input(\"Enter the number of max values\"))\n",
        "\n",
        "while number_of_max_values > len(numbers_list):\n",
        "    number_of_max_values=int(input(f'There are {len(numbers_list)} numbers in the list, please enter smaller or equal to this number'))\n",
        "\n",
        "for i in range(0,number_of_max_values):\n",
        "    max_numbers.append(0)\n",
        "    for number in numbers_list:\n",
        "        if number > max_numbers[i] and max_numbers.count(number)==0:\n",
        "            max_numbers[i]=number\n",
        "        else:\n",
        "            pass\n",
        "\n",
        "print(numbers_list)\n",
        "print(max_numbers)"
      ]
    },
    {
      "cell_type": "markdown",
      "metadata": {
        "id": "HPurdxbUtrOC"
      },
      "source": [
        "Write a Python program to find the longest common prefix in a list of strings.\n",
        "\n",
        "Given a list of strings, write a Python program to find the longest common prefix among the strings. The longest common prefix is the longest string that is a prefix of all the strings in the list. For example, if the list is ['hello', 'he', 'hey'], the longest common prefix is 'he'."
      ]
    },
    {
      "cell_type": "code",
      "execution_count": 23,
      "metadata": {
        "id": "-YCEoylyt7Eb"
      },
      "outputs": [
        {
          "name": "stdout",
          "output_type": "stream",
          "text": [
            "he\n"
          ]
        }
      ],
      "source": [
        "strings_list=['hello', 'he', 'hey']\n",
        "prefix=''\n",
        "found=False\n",
        "\n",
        "for i in range(0,len(strings_list[0])+1):\n",
        "    prefix=strings_list[0][0:i+1]       \n",
        "    for z in range(0,len(strings_list)):\n",
        "        if strings_list[z].count(prefix)==1:\n",
        "            pass\n",
        "        else:\n",
        "            prefix=strings_list[0][0:(i)]\n",
        "            found=True\n",
        "            break\n",
        "    if found==True:\n",
        "        break\n",
        "    else:\n",
        "        pass    \n",
        "\n",
        "print(prefix)\n",
        "\n",
        "\n"
      ]
    },
    {
      "cell_type": "markdown",
      "metadata": {
        "id": "rsHuAGt2t6o8"
      },
      "source": [
        "Write a Python program to find the majority element in a list of integers.\n",
        "\n",
        "Given a list of integers, write a Python program to find the majority element in the list. The majority element is the element that appears more than half the time in the list. For example, if the list is [1, 2, 2, 2, 3, 4, 2], the majority element is 2."
      ]
    },
    {
      "cell_type": "code",
      "execution_count": 28,
      "metadata": {
        "id": "JYM8eQCtt7Q7"
      },
      "outputs": [
        {
          "name": "stdout",
          "output_type": "stream",
          "text": [
            "2\n"
          ]
        }
      ],
      "source": [
        "num_list=[1, 2, 2, 2, 3, 4, 2]\n",
        "\n",
        "maj_number=0\n",
        "for number in num_list:\n",
        "    if num_list.count(number) > len(num_list)/2:\n",
        "        maj_number=number\n",
        "        break\n",
        "    else:\n",
        "        pass\n",
        "\n",
        "print(maj_number)"
      ]
    },
    {
      "cell_type": "markdown",
      "metadata": {
        "id": "4yObTNKhuAGu"
      },
      "source": [
        "Write a Python program to find the sum of two integers without using the + or - operators.\n",
        "\n",
        "Given two integers, write a Python program to find their sum without using the + or - operators. For example, if the two integers are 3 and 5, the program should return 8."
      ]
    },
    {
      "cell_type": "code",
      "execution_count": null,
      "metadata": {
        "id": "OOlRE0VduFFY"
      },
      "outputs": [],
      "source": [
        "num1=3\n",
        "num2=5\n",
        "\n",
        "\n",
        "while (num2 != 0):\n",
        "        carry = num1 & num2 \n",
        "        num1 = num1 ^ num2\n",
        "        num2 = carry << 1\n",
        "\n",
        "print(num1)"
      ]
    },
    {
      "cell_type": "markdown",
      "metadata": {
        "id": "2AH4rXTxuFcG"
      },
      "source": [
        "Write a Python program to find the first non-repeating character in a string.\n",
        "\n",
        "Given a string, write a Python program to find the first non-repeating character in the string. For example, if the string is 'hello', the program should return 'h'."
      ]
    },
    {
      "cell_type": "code",
      "execution_count": null,
      "metadata": {
        "id": "8yLOWvoZuHnS"
      },
      "outputs": [],
      "source": [
        "string=\"hassanh\"\n",
        "\n",
        "\n",
        "for letter in string:\n",
        "    if string.count(letter) > 1:\n",
        "        continue\n",
        "    else: \n",
        "        first_non_repeating_character=letter\n",
        "        break\n",
        "    \n",
        "\n",
        "print(first_non_repeating_character) "
      ]
    },
    {
      "cell_type": "markdown",
      "metadata": {
        "id": "fy6B-U0IuH9m"
      },
      "source": [
        "Write a Python program to find the first missing positive integer in a list of integers.\n",
        "\n",
        "Given a list of integers, write a Python program to find the first missing positive integer. For example, if the list is [-1, 2, 3, 4], the first missing positive integer is 1."
      ]
    },
    {
      "cell_type": "code",
      "execution_count": null,
      "metadata": {
        "id": "GYkgto0-uX7R"
      },
      "outputs": [],
      "source": [
        "list_10=[-2,1,2, 3, 4,6]\n",
        "\n",
        "for i in range(0,len(list_10)-1):\n",
        "    if list_10[i+1]!= list_10[i]+1:\n",
        "        if list_10[i]+1==0 and list_10[i+1]!=1:\n",
        "            missing_integer=1\n",
        "            break\n",
        "        else:\n",
        "            missing_integer=list_10[i]+1\n",
        "            break\n",
        "    else:\n",
        "        continue\n",
        "\n",
        "print(missing_integer)\n",
        "            \n",
        "    "
      ]
    },
    {
      "cell_type": "markdown",
      "metadata": {
        "id": "3pqFyzFtuYcj"
      },
      "source": [
        "Write a Python program to find the longest palindromic substring in a string.\n",
        "\n",
        "Given a string, write a Python program to find the longest palindromic substring in the string. A palindromic substring is a substring that is the same backwards and forwards. For example, if the string is 'babad', the longest palindromic substring is 'bab'."
      ]
    },
    {
      "cell_type": "code",
      "execution_count": null,
      "metadata": {
        "id": "wt-MmvBZufbz"
      },
      "outputs": [],
      "source": []
    },
    {
      "cell_type": "markdown",
      "metadata": {
        "id": "A_5yPJH2ufIT"
      },
      "source": [
        "Write a Python program to find the maximum sum subarray in a list of integers.\n",
        "\n",
        "Given a list of integers, write a Python program to find the subarray with the maximum sum. For example, if the list is [-2, 1, -3, 4, -1, 2, 1, -5, 4], the subarray"
      ]
    },
    {
      "cell_type": "code",
      "execution_count": 32,
      "metadata": {
        "id": "TIxXiarYuioo"
      },
      "outputs": [
        {
          "name": "stdout",
          "output_type": "stream",
          "text": [
            "[1, 4, 2, 1, 4]\n"
          ]
        }
      ],
      "source": [
        "###array=[-2, 1, -3, 4, -1, 2, 1, -5, 4]\n",
        "subarray=[]\n",
        "\n",
        "for number in array:\n",
        "    if number>0:\n",
        "        subarray.append(number)\n",
        "    else:\n",
        "        pass\n",
        "\n",
        "if len(array)==len(subarray): #all-positive case\n",
        "    subarray.remove(min(subarray))\n",
        "elif len(subarray)==0 and array.count(0)!=0: #all-negative with 1 zero\n",
        "    subarray+=[0]+[max(array)]\n",
        "elif len(subarray)==0 and array.count(0)==0:#all-negative no zeros\n",
        "   for i in range(0,2):\n",
        "    subarray.append(0)\n",
        "    for number in array:\n",
        "        if number > subarray[i] and subarray.count(number)==0:\n",
        "            subarray[i]=number\n",
        "        else:\n",
        "            pass\n",
        "\n",
        "print(subarray)"
      ]
    },
    {
      "cell_type": "markdown",
      "metadata": {
        "id": "X1fAZ-ryui-7"
      },
      "source": [
        "Write a Python program to check if two strings are anagrams.\n",
        "\n",
        "Given two strings, write a Python program to check if the two strings are anagrams. An anagram is a word or phrase formed by rearranging the letters of a different word or phrase. For example, \"listen\" and \"silent\" are anagrams."
      ]
    },
    {
      "cell_type": "code",
      "execution_count": 2,
      "metadata": {
        "id": "RGvqhm8fuzx3"
      },
      "outputs": [
        {
          "name": "stdout",
          "output_type": "stream",
          "text": [
            "They are anagrams\n"
          ]
        }
      ],
      "source": [
        "string_1=\"listen\"\n",
        "string_2=\"silent\"\n",
        "\n",
        "if sorted(string_1.upper())==sorted(string_2.upper()):\n",
        "    print(\"They are anagrams\")\n",
        "else:\n",
        "    print(\"they are not anagrams\")"
      ]
    },
    {
      "cell_type": "markdown",
      "metadata": {
        "id": "YO7ZVQMlu0DV"
      },
      "source": [
        "Write a Python program to find the maximum depth of a binary tree.\n",
        "\n",
        "Given a binary tree, write a Python program to find the maximum depth of the tree. The maximum depth is the number of nodes along the longest path from the root node down to the farthest leaf node. For example, if the binary tree is:\n",
        "```\n",
        "   3\n",
        "  / \\\n",
        " 9  20\n",
        "   /  \\\n",
        "  15   7\n",
        "```"
      ]
    },
    {
      "cell_type": "code",
      "execution_count": null,
      "metadata": {
        "id": "Ae8W0XYivLH4"
      },
      "outputs": [],
      "source": []
    },
    {
      "cell_type": "markdown",
      "metadata": {
        "id": "3ZxNTDzSvXt9"
      },
      "source": [
        "Write a Python program to find the minimum window in a string which will contain all the characters of another string.\n",
        "\n",
        "Given two strings, write a Python program to find the minimum window in the first string which will contain all the characters of the second string. For example, if the first string is \"ADOBECODEBANC\" and"
      ]
    },
    {
      "cell_type": "code",
      "execution_count": null,
      "metadata": {
        "id": "iQFO2Sn8vYiW"
      },
      "outputs": [],
      "source": []
    },
    {
      "cell_type": "markdown",
      "metadata": {
        "id": "wm0jTuKrve6k"
      },
      "source": [
        "# Q2 Level II "
      ]
    },
    {
      "cell_type": "markdown",
      "metadata": {
        "id": "2VE-EN-twin7"
      },
      "source": [
        "Write a Python program to convert a Unix timestamp to a datetime object.\n",
        "\n",
        "Given a Unix timestamp, write a Python program to convert it to a datetime object. A Unix timestamp is the number of seconds that have elapsed since January 1, 1970, at 00:00:00 UTC. For example, if the Unix timestamp is 1613978400, the program should return the datetime object representing March 2, 2021, at 00:00:00 UTC."
      ]
    },
    {
      "cell_type": "code",
      "execution_count": null,
      "metadata": {
        "id": "pC7xR-lhwj1E"
      },
      "outputs": [],
      "source": []
    },
    {
      "cell_type": "markdown",
      "metadata": {
        "id": "2bbmpWInwkJD"
      },
      "source": [
        "Write a Python program to parse a CSV file and convert the data to a list of dictionaries.\n",
        "\n",
        "Given a CSV file with a header row, write a Python program to read the file and convert the data to a list of dictionaries, where each dictionary represents a row in the file. For example, if the CSV file is:\n",
        "```python\n",
        "Name, Age, Gender\n",
        "Alice, 25, Female\n",
        "Bob, 30, Male\n",
        "```\n",
        "the program should return:\n",
        "```python\n",
        "[{'Name': 'Alice', 'Age': '25', 'Gender': 'Female'},\n",
        " {'Name': 'Bob', 'Age': '30', 'Gender': 'Male'}]\n",
        "```\n"
      ]
    },
    {
      "cell_type": "code",
      "execution_count": null,
      "metadata": {
        "id": "vbOnq2jtw8pJ"
      },
      "outputs": [],
      "source": []
    },
    {
      "cell_type": "markdown",
      "metadata": {
        "id": "OXz-JyJCw9E0"
      },
      "source": [
        "Write a Python program to generate a random datetime object between two dates.\n",
        "\n",
        "Given two datetime objects, write a Python program to generate a random datetime object between the two dates. For example, if the start date is January 1, 2021, at 00:00:00 and the end date is January 31, 2021, at 23:59:59, the program should return a random datetime object between those two dates."
      ]
    },
    {
      "cell_type": "code",
      "execution_count": null,
      "metadata": {
        "id": "Ew1vlEAmw_5x"
      },
      "outputs": [],
      "source": []
    },
    {
      "cell_type": "markdown",
      "metadata": {
        "id": "YsvOYZSLxATY"
      },
      "source": [
        "Write a Python program to read a JSON file and convert the data to a Python object.\n",
        "\n",
        "Given a JSON file, write a Python program to read the file and convert the data to a Python object, such as a list or dictionary. For example, if the JSON file is:\n",
        "```json\n",
        "{\n",
        "    \"name\": \"Alice\",\n",
        "    \"age\": 25,\n",
        "    \"gender\": \"Female\"\n",
        "}\n",
        "\n",
        "```\n",
        "the program should return:\n",
        "```python\n",
        "{'name': 'Alice', 'age': 25, 'gender': 'Female'} \n",
        "```"
      ]
    },
    {
      "cell_type": "code",
      "execution_count": null,
      "metadata": {
        "id": "JfQZktqhxR8H"
      },
      "outputs": [],
      "source": []
    },
    {
      "cell_type": "markdown",
      "metadata": {
        "id": "CGK0xHKwxSNI"
      },
      "source": [
        "Write a Python program to implement a binary search algorithm.\n",
        "\n",
        "Given a sorted list of integers, write a Python program to implement a binary search algorithm to find a given element in the list. The binary search algorithm works by repeatedly dividing the search interval in half until the target element is found or the interval is empty. For example, if the list is [1, 3, 5, 7, 9] and the target element is 5, the program should return the index of 2."
      ]
    },
    {
      "cell_type": "code",
      "execution_count": null,
      "metadata": {
        "id": "giXP7PAWxXAJ"
      },
      "outputs": [],
      "source": []
    },
    {
      "cell_type": "markdown",
      "metadata": {
        "id": "sUb4wMqCxXWw"
      },
      "source": [
        "Write a Python program to implement the quicksort algorithm.\n",
        "\n",
        "Given a list of integers, write a Python program to implement the quicksort algorithm to sort the list in ascending order. The quicksort algorithm works by partitioning the list into two sub-lists, one with elements smaller than a chosen pivot element and one with elements larger than the pivot, and recursively applying the same process to the sub-lists. For example, if the list is [3, 1, 4, 1, 5, 9, 2, 6, 5], the program should return the sorted list [1, 1, 2, 3, 4, 5, 5, 6, 9]."
      ]
    },
    {
      "cell_type": "code",
      "execution_count": null,
      "metadata": {
        "id": "7tjuP43uxaU8"
      },
      "outputs": [],
      "source": []
    },
    {
      "cell_type": "markdown",
      "metadata": {
        "id": "8GmyofeoxarO"
      },
      "source": [
        "Write a Python program to implement the merge sort algorithm.\n",
        "\n",
        "Given a list of integers, write a Python program to implement the merge sort algorithm to sort the list in ascending order. The merge sort algorithm works by recursively dividing the list into two halves, sorting each half,"
      ]
    },
    {
      "cell_type": "code",
      "execution_count": null,
      "metadata": {
        "id": "J3qRz63wxc-1"
      },
      "outputs": [],
      "source": []
    },
    {
      "cell_type": "markdown",
      "metadata": {
        "id": "5EJlHtomyXgy"
      },
      "source": [
        "Create a function reads a json like { \"name\": \"John\", \"notes\": [3, 5, 4] } and returns a dictionary of objects like { \"name\": \"John\", \"top_note\": 5 }.\n",
        "Examples: \n",
        "```json\n",
        "[\n",
        "  { \"name\": \"John\", \n",
        "    \"notes\": [3, 5, 4] },\n",
        "  {\"name\": \"Max\", \n",
        "  \"notes\": [1, 4, 6]},\n",
        "  {\"name\": \"Zygmund\", \n",
        "  \"notes\": [1, 2, 3]}\n",
        "]\n",
        "```\n",
        "return python dictionary or list object \n",
        "```python\n",
        "[{ \"name\": \"John\", \"top_note\": 5 },\n",
        "{ \"name\": \"Max\", \"top_note\": 6 },\n",
        "{ \"name\": \"Zygmund\", \"top_note\": 3 }]\n",
        "```"
      ]
    },
    {
      "cell_type": "code",
      "execution_count": null,
      "metadata": {
        "id": "Ur-OmlSv1ikd"
      },
      "outputs": [],
      "source": []
    },
    {
      "cell_type": "markdown",
      "metadata": {
        "id": "Fhs0RlCM1i7Z"
      },
      "source": [
        "using OOP Create methods for the Calculator class that can do the following:\n",
        "\n",
        "    Add two numbers.\n",
        "    Subtract two numbers.\n",
        "    Multiply two numbers.\n",
        "    Divide two numbers.\n",
        "Examples\" \n",
        "```python\n",
        "calculator = Calculator()\n",
        "\n",
        "calculator.add(10, 5) # output 15\n",
        "\n",
        "calculator.subtract(10, 5) # output 5\n",
        "\n",
        "calculator.multiply(10, 5) # output 50\n",
        "\n",
        "calculator.divide(10, 5) # output 2\n",
        "```"
      ]
    },
    {
      "cell_type": "code",
      "execution_count": null,
      "metadata": {
        "id": "ZToHeNI42AxB"
      },
      "outputs": [],
      "source": []
    },
    {
      "cell_type": "markdown",
      "metadata": {
        "id": "ir69Vemi2BC2"
      },
      "source": [
        "In the class Employee, implement the instance attributes as firstname, lastname and salary.\n",
        "\n",
        "Create the method from_string() which parses a string containing these attributes and assigns them to the correct properties. Properties will be separated by a dash.\n",
        "```python\n",
        "emp1 = Employee(\"Mary\", \"Sue\", 60000)\n",
        "emp2 = Employee.from_string(\"John-Smith-55000\") \n",
        "```\n",
        "the output should be \n",
        "```python\n",
        "emp1.firstname # output \"Mary\"\n",
        "\n",
        "emp1.salary # output 60000\n",
        "\n",
        "emp2.firstname # output \"John\"\n",
        "\n",
        "emp2.salary # output 55000 \n",
        "```"
      ]
    },
    {
      "cell_type": "code",
      "execution_count": null,
      "metadata": {
        "id": "QB-a3QGd2dxQ"
      },
      "outputs": [],
      "source": []
    },
    {
      "cell_type": "markdown",
      "metadata": {
        "id": "VEUNesr12dVj"
      },
      "source": [
        "A consecutive-run is a list of adjacent, consecutive integers. This list can be either increasing or decreasing. Create a function that takes a list of numbers and returns the length of the longest consecutive-run. \n",
        "```python \n",
        "longestRun([1, 2, 3, 5, 6, 7, 8, 9]) # output 5\n",
        "# Two consecutive runs: [1, 2, 3] and [5, 6, 7, 8, 9] (longest).\n",
        "```"
      ]
    },
    {
      "cell_type": "code",
      "execution_count": null,
      "metadata": {
        "id": "G5wsIkkS2c_F"
      },
      "outputs": [],
      "source": []
    },
    {
      "cell_type": "markdown",
      "metadata": {
        "id": "Mhk_N9oa28o4"
      },
      "source": [
        "sort a list containing a series of dates given as strings. Each date is given in the format DD-MM-YYYY_HH:MM:\n",
        "The priority of criteria used for sorting will be:\n",
        "\n",
        "    Year\n",
        "    Month\n",
        "    Day\n",
        "    Hours\n",
        "    Minutes\n",
        "Given a list lst and a string mode, implement a function that returns:\n",
        "\n",
        "    if mode is equal to \"ASC\", the list lst sorted in ascending order.\n",
        "    if mode is equal to \"DSC\", the list lst sorted in descending order.\n",
        "example:\n",
        "```python \n",
        "sort_dates([\"10-02-2018_12:30\", \n",
        "            \"10-02-2016_12:30\", \n",
        "            \"10-02-2018_12:15\"], \"ASC\") \n",
        "# output [\"10-02-2016_12:30\", \"10-02-2018_12:15\", \"10-02-2018_12:30\"]\n",
        "\n",
        "sort_dates([\"10-02-2018_12:30\", \n",
        "          \"10-02-2016_12:30\", \n",
        "          \"10-02-2018_12:15\"], \"DSC\") \n",
        "# output [\"10-02-2018_12:30\", \"10-02-2018_12:15\", \"10-02-2016_12:30\"]\n",
        "\n",
        "sort_dates([\"09-02-2000_10:03\", \n",
        "            \"10-02-2000_18:29\", \n",
        "            \"01-01-1999_00:55\"], \"ASC\") \n",
        "# output [\"01-01-1999_00:55\", \"09-02-2000_10:03\", \"10-02-2000_18:29\"]\n",
        "```"
      ]
    },
    {
      "cell_type": "code",
      "execution_count": null,
      "metadata": {
        "id": "vk_9AEzL3uyd"
      },
      "outputs": [],
      "source": []
    },
    {
      "cell_type": "markdown",
      "metadata": {
        "id": "dkdDXZCq3vIG"
      },
      "source": [
        "Create a function that, given 2 dates, returns the names of the months that are present between them (inclusive).\n",
        "Examples\n",
        "\n",
        "Input\n",
        "```python\n",
        "january = datetime.date(2017, 1, 1)\n",
        "march = datetime.date(2017, 3, 1)\n",
        "monthsInterval(january, march)\n",
        "# Output ['January', 'February', 'March']\n",
        "```\n",
        "\n",
        "Input\n",
        "```python \n",
        "december = datetime.date(2017, 12, 1)\n",
        "january = datetime.date(2018, 1, 1)\n",
        "monthsInterval(december, january)\n",
        "#output ['January', 'December']\n",
        "```\n",
        "(Notice that January is not duplicated!)"
      ]
    },
    {
      "cell_type": "code",
      "execution_count": null,
      "metadata": {
        "id": "lzRqvvH74dvu"
      },
      "outputs": [],
      "source": []
    }
  ],
  "metadata": {
    "colab": {
      "private_outputs": true,
      "provenance": []
    },
    "kernelspec": {
      "display_name": "Python 3",
      "language": "python",
      "name": "python3"
    },
    "language_info": {
      "codemirror_mode": {
        "name": "ipython",
        "version": 3
      },
      "file_extension": ".py",
      "mimetype": "text/x-python",
      "name": "python",
      "nbconvert_exporter": "python",
      "pygments_lexer": "ipython3",
      "version": "3.8.2"
    },
    "vscode": {
      "interpreter": {
        "hash": "6ee369a2afd4a614a1e5aa9ef2e438b62b9081287575b70d0009e3bf7c2277f4"
      }
    }
  },
  "nbformat": 4,
  "nbformat_minor": 0
}
