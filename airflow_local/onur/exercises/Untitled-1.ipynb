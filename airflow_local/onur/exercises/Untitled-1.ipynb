{
 "cells": [
  {
   "cell_type": "code",
   "execution_count": 2,
   "metadata": {},
   "outputs": [],
   "source": [
    "import pandas as pd\n",
    "import requests\n",
    "import time \n",
    "import json\n",
    "from datetime import datetime, timedelta\n",
    "import numpy as np \n",
    "import os\n",
    "\n",
    "\n",
    "API_key='AZQ6QOXNR3NDY4N2'\n",
    "list_of_stocks=['IBM','AAMC','ABT','BDTX']\n",
    "\n",
    "\n"
   ]
  },
  {
   "cell_type": "code",
   "execution_count": null,
   "metadata": {},
   "outputs": [],
   "source": [
    "url = 'https://www.alphavantage.co/query?function=TIME_SERIES_INTRADAY&symbol=IBM&interval=5min&apikey='+API_key\n",
    "r = requests.get(url)\n",
    "try:    \n",
    "    path= \"/opt/data/DATA_CENTER/DATA_LAKE/\"\n",
    "    data = r.json()\n",
    "    with open(path+\"stock_market_raw_data\"+\"_IBM_\"+str(time.time()), \"w\") as outfile:\n",
    "        json.dump(data,outfile)\n",
    "except:\n",
    "    pass"
   ]
  },
  {
   "cell_type": "code",
   "execution_count": 3,
   "metadata": {},
   "outputs": [
    {
     "data": {
      "text/plain": [
       "{'ticker': ['IBM', 'AAMC', 'ABT', 'BDTX']}"
      ]
     },
     "execution_count": 3,
     "metadata": {},
     "output_type": "execute_result"
    }
   ],
   "source": [
    "kwargs={'ticker':list_of_stocks}\n",
    "\n",
    "kwargs"
   ]
  },
  {
   "cell_type": "code",
   "execution_count": 6,
   "metadata": {},
   "outputs": [
    {
     "name": "stdout",
     "output_type": "stream",
     "text": [
      "IBM\n",
      "AAMC\n",
      "ABT\n",
      "BDTX\n"
     ]
    }
   ],
   "source": [
    "ticker=kwargs['ticker']\n",
    "\n",
    "\n",
    "\n",
    "for tick in ticker:\n",
    "    print(tick)"
   ]
  }
 ],
 "metadata": {
  "kernelspec": {
   "display_name": "Python 3",
   "language": "python",
   "name": "python3"
  },
  "language_info": {
   "codemirror_mode": {
    "name": "ipython",
    "version": 3
   },
   "file_extension": ".py",
   "mimetype": "text/x-python",
   "name": "python",
   "nbconvert_exporter": "python",
   "pygments_lexer": "ipython3",
   "version": "3.11.2"
  },
  "orig_nbformat": 4
 },
 "nbformat": 4,
 "nbformat_minor": 2
}
