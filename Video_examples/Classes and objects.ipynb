{
 "cells": [
  {
   "cell_type": "code",
   "execution_count": null,
   "metadata": {},
   "outputs": [],
   "source": [
    "a= \"hello\"\n",
    "type(a)"
   ]
  },
  {
   "cell_type": "code",
   "execution_count": null,
   "metadata": {},
   "outputs": [],
   "source": [
    "a.capitalize()"
   ]
  },
  {
   "cell_type": "code",
   "execution_count": null,
   "metadata": {},
   "outputs": [],
   "source": [
    "class Cake:\n",
    "    def __init__(self, main_ingredients, allergens,chocolate,cake_type,degree=220):\n",
    "        self.main_ingredients=main_ingredients\n",
    "        if type(allergens)==list:\n",
    "            self.allergens=allergens\n",
    "        if type(allergens)==str:\n",
    "            self.allergens=[allergens]\n",
    "        self.chocolate=chocolate\n",
    "        self.cake_type=cake_type\n",
    "        self.degree=degree \n",
    "        "
   ]
  },
  {
   "cell_type": "code",
   "execution_count": null,
   "metadata": {},
   "outputs": [],
   "source": [
    "pear_fondant = Cake([\"flour\",\"almond\",\"pear\",\"chocolate\"],[\"Gluten\"],chocolate=True,cake_type=\"Fondant\")"
   ]
  },
  {
   "cell_type": "code",
   "execution_count": null,
   "metadata": {},
   "outputs": [],
   "source": [
    "type(pear_fondant)"
   ]
  },
  {
   "cell_type": "code",
   "execution_count": null,
   "metadata": {},
   "outputs": [],
   "source": [
    "pear_fondant.allergens"
   ]
  },
  {
   "cell_type": "code",
   "execution_count": null,
   "metadata": {},
   "outputs": [],
   "source": [
    "pear_fondant.degree "
   ]
  },
  {
   "attachments": {},
   "cell_type": "markdown",
   "metadata": {},
   "source": [
    "#Method"
   ]
  },
  {
   "cell_type": "code",
   "execution_count": null,
   "metadata": {},
   "outputs": [],
   "source": [
    "class Cake:\n",
    "    def __init__(self, main_ingredients, allergens,chocolate,cake_type,degree=220):\n",
    "        self.main_ingredients=main_ingredients\n",
    "        if type(allergens)==list:\n",
    "            self.allergens=allergens\n",
    "        if type(allergens)==str:\n",
    "            self.allergens=[allergens]\n",
    "        self.chocolate=chocolate\n",
    "        self.cake_type=cake_type\n",
    "        self.degree=degree \n",
    "    def get_allergens(self):\n",
    "        print(f'This cake contains {\", \".join(self.allergens)}.')\n",
    "    def get_baking_time(self):\n",
    "        if self.degree<200:\n",
    "            return 30\n",
    "        else:\n",
    "            return 20\n",
    "    def get_cake_type(self):\n",
    "        return self.cake_type"
   ]
  },
  {
   "cell_type": "code",
   "execution_count": null,
   "metadata": {},
   "outputs": [],
   "source": [
    "pear_fondant.get_allergens()"
   ]
  }
 ],
 "metadata": {
  "kernelspec": {
   "display_name": "Python 3",
   "language": "python",
   "name": "python3"
  },
  "language_info": {
   "codemirror_mode": {
    "name": "ipython",
    "version": 3
   },
   "file_extension": ".py",
   "mimetype": "text/x-python",
   "name": "python",
   "nbconvert_exporter": "python",
   "pygments_lexer": "ipython3",
   "version": "3.8.2"
  },
  "orig_nbformat": 4,
  "vscode": {
   "interpreter": {
    "hash": "6ee369a2afd4a614a1e5aa9ef2e438b62b9081287575b70d0009e3bf7c2277f4"
   }
  }
 },
 "nbformat": 4,
 "nbformat_minor": 2
}
